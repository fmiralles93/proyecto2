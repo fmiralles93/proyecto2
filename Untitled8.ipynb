{
 "cells": [
  {
   "cell_type": "code",
   "execution_count": 2,
   "metadata": {},
   "outputs": [
    {
     "data": {
      "text/html": [
       "<div>\n",
       "<style scoped>\n",
       "    .dataframe tbody tr th:only-of-type {\n",
       "        vertical-align: middle;\n",
       "    }\n",
       "\n",
       "    .dataframe tbody tr th {\n",
       "        vertical-align: top;\n",
       "    }\n",
       "\n",
       "    .dataframe thead th {\n",
       "        text-align: right;\n",
       "    }\n",
       "</style>\n",
       "<table border=\"1\" class=\"dataframe\">\n",
       "  <thead>\n",
       "    <tr style=\"text-align: right;\">\n",
       "      <th></th>\n",
       "      <th>Nombre</th>\n",
       "      <th>Direccion</th>\n",
       "      <th>Comuna</th>\n",
       "    </tr>\n",
       "  </thead>\n",
       "  <tbody>\n",
       "    <tr>\n",
       "      <th>0</th>\n",
       "      <td>BlackBee</td>\n",
       "      <td>Bolivia 1002</td>\n",
       "      <td>Rancagua</td>\n",
       "    </tr>\n",
       "    <tr>\n",
       "      <th>1</th>\n",
       "      <td>Leo Arce</td>\n",
       "      <td>Betsaida 0362</td>\n",
       "      <td>Graneros</td>\n",
       "    </tr>\n",
       "    <tr>\n",
       "      <th>2</th>\n",
       "      <td>Apiser</td>\n",
       "      <td>Pisagua 115</td>\n",
       "      <td>Machalí</td>\n",
       "    </tr>\n",
       "    <tr>\n",
       "      <th>3</th>\n",
       "      <td>Apicola San lorenzo</td>\n",
       "      <td>San Ramon 3240</td>\n",
       "      <td>Rancagua</td>\n",
       "    </tr>\n",
       "    <tr>\n",
       "      <th>4</th>\n",
       "      <td>Apicola diez</td>\n",
       "      <td>A la Goria</td>\n",
       "      <td>Rancagua</td>\n",
       "    </tr>\n",
       "    <tr>\n",
       "      <th>5</th>\n",
       "      <td>Colmenares Cunill</td>\n",
       "      <td>Rinconada 27</td>\n",
       "      <td>San Vicente</td>\n",
       "    </tr>\n",
       "    <tr>\n",
       "      <th>6</th>\n",
       "      <td>Gustavo Rubio</td>\n",
       "      <td>Juan jimenez 881</td>\n",
       "      <td>San Fernando</td>\n",
       "    </tr>\n",
       "    <tr>\n",
       "      <th>7</th>\n",
       "      <td>Roberto Contreras</td>\n",
       "      <td>La quenoa 2363</td>\n",
       "      <td>Rancagua</td>\n",
       "    </tr>\n",
       "    <tr>\n",
       "      <th>8</th>\n",
       "      <td>Queen South</td>\n",
       "      <td>Las azucenas 182</td>\n",
       "      <td>San Fernando</td>\n",
       "    </tr>\n",
       "    <tr>\n",
       "      <th>9</th>\n",
       "      <td>Polinizaciones Peñuelas</td>\n",
       "      <td>Parcela 24</td>\n",
       "      <td>Placilla</td>\n",
       "    </tr>\n",
       "    <tr>\n",
       "      <th>10</th>\n",
       "      <td>Apicola Los Tres</td>\n",
       "      <td>Manuel Montt 2930</td>\n",
       "      <td>Rancagua</td>\n",
       "    </tr>\n",
       "    <tr>\n",
       "      <th>11</th>\n",
       "      <td>Colmenaes San Ggabriel</td>\n",
       "      <td>Tunca Abajo, km 19,6</td>\n",
       "      <td>San Vicente</td>\n",
       "    </tr>\n",
       "    <tr>\n",
       "      <th>12</th>\n",
       "      <td>Los Quillayes</td>\n",
       "      <td>Illanes 01690</td>\n",
       "      <td>Rancagua</td>\n",
       "    </tr>\n",
       "    <tr>\n",
       "      <th>13</th>\n",
       "      <td>Tres Aguas</td>\n",
       "      <td>Francisco Costabal 4521</td>\n",
       "      <td>Codegua</td>\n",
       "    </tr>\n",
       "    <tr>\n",
       "      <th>14</th>\n",
       "      <td>Bee Happy</td>\n",
       "      <td>Las Aracucarias</td>\n",
       "      <td>Requinoa</td>\n",
       "    </tr>\n",
       "    <tr>\n",
       "      <th>15</th>\n",
       "      <td>Roberto Lara</td>\n",
       "      <td>Termas de Cauquenes 995</td>\n",
       "      <td>Rancagua</td>\n",
       "    </tr>\n",
       "    <tr>\n",
       "      <th>16</th>\n",
       "      <td>Paradi</td>\n",
       "      <td>Manuel Bulnes 1194</td>\n",
       "      <td>Rengo</td>\n",
       "    </tr>\n",
       "    <tr>\n",
       "      <th>17</th>\n",
       "      <td>Todo Miel</td>\n",
       "      <td>Yungay 840</td>\n",
       "      <td>Linares</td>\n",
       "    </tr>\n",
       "    <tr>\n",
       "      <th>18</th>\n",
       "      <td>Apichame</td>\n",
       "      <td>Guzman 0</td>\n",
       "      <td>San Fernando</td>\n",
       "    </tr>\n",
       "    <tr>\n",
       "      <th>19</th>\n",
       "      <td>Colmenares Guerrero</td>\n",
       "      <td>Hijuelas 2</td>\n",
       "      <td>Paredones</td>\n",
       "    </tr>\n",
       "    <tr>\n",
       "      <th>20</th>\n",
       "      <td>Vita Polen</td>\n",
       "      <td>Las Escolapias 2297</td>\n",
       "      <td>Rancagua</td>\n",
       "    </tr>\n",
       "    <tr>\n",
       "      <th>21</th>\n",
       "      <td>El Bufalo</td>\n",
       "      <td>Carrizalillo 0</td>\n",
       "      <td>Paredones</td>\n",
       "    </tr>\n",
       "    <tr>\n",
       "      <th>22</th>\n",
       "      <td>Colmena Miriam</td>\n",
       "      <td>Aries 1744</td>\n",
       "      <td>Rancagua</td>\n",
       "    </tr>\n",
       "    <tr>\n",
       "      <th>23</th>\n",
       "      <td>Apicola Codao</td>\n",
       "      <td>Codao 294</td>\n",
       "      <td>Peumo</td>\n",
       "    </tr>\n",
       "    <tr>\n",
       "      <th>24</th>\n",
       "      <td>Juan Cornejo</td>\n",
       "      <td>Illanes 1333</td>\n",
       "      <td>Rancagua</td>\n",
       "    </tr>\n",
       "    <tr>\n",
       "      <th>25</th>\n",
       "      <td>Yaquil</td>\n",
       "      <td>Yaquil 0</td>\n",
       "      <td>Rancagua</td>\n",
       "    </tr>\n",
       "    <tr>\n",
       "      <th>26</th>\n",
       "      <td>Colchagua</td>\n",
       "      <td>Manuel Rodriguez 81</td>\n",
       "      <td>Chimbarongo</td>\n",
       "    </tr>\n",
       "    <tr>\n",
       "      <th>27</th>\n",
       "      <td>Rosa Fuentes</td>\n",
       "      <td>Cuesta Lo Gonzalez</td>\n",
       "      <td>San Fernando</td>\n",
       "    </tr>\n",
       "    <tr>\n",
       "      <th>28</th>\n",
       "      <td>Margartia Fuentes</td>\n",
       "      <td>Italia 751</td>\n",
       "      <td>San Fernando</td>\n",
       "    </tr>\n",
       "  </tbody>\n",
       "</table>\n",
       "</div>"
      ],
      "text/plain": [
       "                     Nombre                Direccion        Comuna\n",
       "0                  BlackBee             Bolivia 1002      Rancagua\n",
       "1                  Leo Arce            Betsaida 0362      Graneros\n",
       "2                    Apiser              Pisagua 115       Machalí\n",
       "3       Apicola San lorenzo           San Ramon 3240      Rancagua\n",
       "4              Apicola diez               A la Goria      Rancagua\n",
       "5         Colmenares Cunill             Rinconada 27   San Vicente\n",
       "6             Gustavo Rubio         Juan jimenez 881  San Fernando\n",
       "7         Roberto Contreras           La quenoa 2363      Rancagua\n",
       "8               Queen South         Las azucenas 182  San Fernando\n",
       "9   Polinizaciones Peñuelas               Parcela 24      Placilla\n",
       "10         Apicola Los Tres        Manuel Montt 2930      Rancagua\n",
       "11   Colmenaes San Ggabriel     Tunca Abajo, km 19,6   San Vicente\n",
       "12            Los Quillayes            Illanes 01690      Rancagua\n",
       "13               Tres Aguas  Francisco Costabal 4521       Codegua\n",
       "14                Bee Happy          Las Aracucarias      Requinoa\n",
       "15             Roberto Lara  Termas de Cauquenes 995      Rancagua\n",
       "16                   Paradi       Manuel Bulnes 1194         Rengo\n",
       "17                Todo Miel               Yungay 840       Linares\n",
       "18                 Apichame                 Guzman 0  San Fernando\n",
       "19      Colmenares Guerrero               Hijuelas 2     Paredones\n",
       "20               Vita Polen      Las Escolapias 2297      Rancagua\n",
       "21                El Bufalo           Carrizalillo 0     Paredones\n",
       "22           Colmena Miriam               Aries 1744      Rancagua\n",
       "23            Apicola Codao                Codao 294         Peumo\n",
       "24             Juan Cornejo             Illanes 1333      Rancagua\n",
       "25                   Yaquil                 Yaquil 0      Rancagua\n",
       "26                Colchagua      Manuel Rodriguez 81   Chimbarongo\n",
       "27             Rosa Fuentes       Cuesta Lo Gonzalez  San Fernando\n",
       "28        Margartia Fuentes               Italia 751  San Fernando"
      ]
     },
     "execution_count": 2,
     "metadata": {},
     "output_type": "execute_result"
    }
   ],
   "source": [
    "import pandas as pd\n",
    "df=pd.read_csv('abejitas.csv', sep=';', encoding='latin-1')\n",
    "df"
   ]
  },
  {
   "cell_type": "code",
   "execution_count": 4,
   "metadata": {},
   "outputs": [
    {
     "name": "stdout",
     "output_type": "stream",
     "text": [
      "[-34.1767742, -70.7578663]\n"
     ]
    }
   ],
   "source": [
    "import geocoder\n",
    "g=geocoder.komoot('Bolivia 1002, Rancagua, Chile')\n",
    "print(g.latlng)"
   ]
  },
  {
   "cell_type": "code",
   "execution_count": 5,
   "metadata": {},
   "outputs": [
    {
     "data": {
      "text/html": [
       "<div style=\"width:100%;\"><div style=\"position:relative;width:100%;height:0;padding-bottom:60%;\"><iframe src=\"data:text/html;charset=utf-8;base64,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\" style=\"position:absolute;width:100%;height:100%;left:0;top:0;border:none !important;\" allowfullscreen webkitallowfullscreen mozallowfullscreen></iframe></div></div>"
      ],
      "text/plain": [
       "<folium.folium.Map at 0x1e351c8a400>"
      ]
     },
     "execution_count": 5,
     "metadata": {},
     "output_type": "execute_result"
    }
   ],
   "source": [
    "import folium\n",
    "p1 = geocoder.komoot('Bolivia 1002, Rancagua, Chile').latlng\n",
    "p2 = geocoder.komoot('Betsadia 0362, Graneros, Chile').latlng\n",
    "points=(p1, p2)\n",
    "mymap=folium.Map(location=p1)\n",
    "folium.PolyLine(points,color='red', weight=2.5).add_to(mymap)\n",
    "mymap"
   ]
  },
  {
   "cell_type": "code",
   "execution_count": 6,
   "metadata": {},
   "outputs": [
    {
     "data": {
      "text/plain": [
       "{'index': [0,\n",
       "  1,\n",
       "  2,\n",
       "  3,\n",
       "  4,\n",
       "  5,\n",
       "  6,\n",
       "  7,\n",
       "  8,\n",
       "  9,\n",
       "  10,\n",
       "  11,\n",
       "  12,\n",
       "  13,\n",
       "  14,\n",
       "  15,\n",
       "  16,\n",
       "  17,\n",
       "  18,\n",
       "  19,\n",
       "  20,\n",
       "  21,\n",
       "  22,\n",
       "  23,\n",
       "  24,\n",
       "  25,\n",
       "  26,\n",
       "  27,\n",
       "  28],\n",
       " 'columns': ['Nombre', 'Direccion', 'Comuna'],\n",
       " 'data': [['BlackBee', 'Bolivia 1002', 'Rancagua'],\n",
       "  ['Leo Arce', 'Betsaida 0362', 'Graneros'],\n",
       "  ['Apiser', 'Pisagua 115', 'Machalí'],\n",
       "  ['Apicola San lorenzo', 'San Ramon 3240', 'Rancagua'],\n",
       "  ['Apicola diez', 'A la Goria', 'Rancagua'],\n",
       "  ['Colmenares Cunill', 'Rinconada 27', 'San Vicente'],\n",
       "  ['Gustavo Rubio', 'Juan jimenez 881', 'San Fernando'],\n",
       "  ['Roberto Contreras', 'La quenoa 2363', 'Rancagua'],\n",
       "  ['Queen South', 'Las azucenas 182', 'San Fernando'],\n",
       "  ['Polinizaciones Peñuelas', 'Parcela 24', 'Placilla'],\n",
       "  ['Apicola Los Tres', 'Manuel Montt 2930', 'Rancagua'],\n",
       "  ['Colmenaes San Ggabriel', 'Tunca Abajo, km 19,6', 'San Vicente'],\n",
       "  ['Los Quillayes', 'Illanes 01690', 'Rancagua'],\n",
       "  ['Tres Aguas', 'Francisco Costabal 4521', 'Codegua'],\n",
       "  ['Bee Happy', 'Las Aracucarias', 'Requinoa'],\n",
       "  ['Roberto Lara', 'Termas de Cauquenes 995', 'Rancagua'],\n",
       "  ['Paradi', 'Manuel Bulnes 1194', 'Rengo'],\n",
       "  ['Todo Miel', 'Yungay 840', 'Linares'],\n",
       "  ['Apichame', 'Guzman 0', 'San Fernando'],\n",
       "  ['Colmenares Guerrero', 'Hijuelas 2', 'Paredones'],\n",
       "  ['Vita Polen', 'Las Escolapias 2297', 'Rancagua'],\n",
       "  ['El Bufalo', 'Carrizalillo 0', 'Paredones'],\n",
       "  ['Colmena Miriam', 'Aries 1744', 'Rancagua'],\n",
       "  ['Apicola Codao', 'Codao 294', 'Peumo'],\n",
       "  ['Juan Cornejo', 'Illanes 1333', 'Rancagua'],\n",
       "  ['Yaquil', 'Yaquil 0', 'Rancagua'],\n",
       "  ['Colchagua', 'Manuel Rodriguez 81', 'Chimbarongo'],\n",
       "  ['Rosa Fuentes', 'Cuesta Lo Gonzalez', 'San Fernando'],\n",
       "  ['Margartia Fuentes', 'Italia 751', 'San Fernando']]}"
      ]
     },
     "execution_count": 6,
     "metadata": {},
     "output_type": "execute_result"
    }
   ],
   "source": [
    "d=df.to_dict(orient='split')\n",
    "d"
   ]
  },
  {
   "cell_type": "code",
   "execution_count": 7,
   "metadata": {},
   "outputs": [
    {
     "data": {
      "text/plain": [
       "[['BlackBee', 'Bolivia 1002', 'Rancagua'],\n",
       " ['Leo Arce', 'Betsaida 0362', 'Graneros'],\n",
       " ['Apiser', 'Pisagua 115', 'Machalí'],\n",
       " ['Apicola San lorenzo', 'San Ramon 3240', 'Rancagua'],\n",
       " ['Apicola diez', 'A la Goria', 'Rancagua'],\n",
       " ['Colmenares Cunill', 'Rinconada 27', 'San Vicente'],\n",
       " ['Gustavo Rubio', 'Juan jimenez 881', 'San Fernando'],\n",
       " ['Roberto Contreras', 'La quenoa 2363', 'Rancagua'],\n",
       " ['Queen South', 'Las azucenas 182', 'San Fernando'],\n",
       " ['Polinizaciones Peñuelas', 'Parcela 24', 'Placilla'],\n",
       " ['Apicola Los Tres', 'Manuel Montt 2930', 'Rancagua'],\n",
       " ['Colmenaes San Ggabriel', 'Tunca Abajo, km 19,6', 'San Vicente'],\n",
       " ['Los Quillayes', 'Illanes 01690', 'Rancagua'],\n",
       " ['Tres Aguas', 'Francisco Costabal 4521', 'Codegua'],\n",
       " ['Bee Happy', 'Las Aracucarias', 'Requinoa'],\n",
       " ['Roberto Lara', 'Termas de Cauquenes 995', 'Rancagua'],\n",
       " ['Paradi', 'Manuel Bulnes 1194', 'Rengo'],\n",
       " ['Todo Miel', 'Yungay 840', 'Linares'],\n",
       " ['Apichame', 'Guzman 0', 'San Fernando'],\n",
       " ['Colmenares Guerrero', 'Hijuelas 2', 'Paredones'],\n",
       " ['Vita Polen', 'Las Escolapias 2297', 'Rancagua'],\n",
       " ['El Bufalo', 'Carrizalillo 0', 'Paredones'],\n",
       " ['Colmena Miriam', 'Aries 1744', 'Rancagua'],\n",
       " ['Apicola Codao', 'Codao 294', 'Peumo'],\n",
       " ['Juan Cornejo', 'Illanes 1333', 'Rancagua'],\n",
       " ['Yaquil', 'Yaquil 0', 'Rancagua'],\n",
       " ['Colchagua', 'Manuel Rodriguez 81', 'Chimbarongo'],\n",
       " ['Rosa Fuentes', 'Cuesta Lo Gonzalez', 'San Fernando'],\n",
       " ['Margartia Fuentes', 'Italia 751', 'San Fernando']]"
      ]
     },
     "execution_count": 7,
     "metadata": {},
     "output_type": "execute_result"
    }
   ],
   "source": [
    "d['data']"
   ]
  },
  {
   "cell_type": "code",
   "execution_count": 8,
   "metadata": {},
   "outputs": [
    {
     "name": "stdout",
     "output_type": "stream",
     "text": [
      "<[OK] Komoot - Geocode [Rancagua O'Higgins Region, Chile]>\n"
     ]
    }
   ],
   "source": [
    "data=d['data']\n",
    "gc=geocoder.komoot('bolivia 1002, Rancagua, Chile')\n",
    "print (gc)"
   ]
  },
  {
   "cell_type": "code",
   "execution_count": 27,
   "metadata": {},
   "outputs": [
    {
     "name": "stdout",
     "output_type": "stream",
     "text": [
      "('Calle Bolivia 1002', 'Rancagua', 'Chile')\n",
      "[-17.39696305, -66.23631880669342]\n",
      "('Calle Betsaida 0362', 'Graneros', 'Chile')\n",
      "[36.7132065, -4.4385647]\n",
      "('Calle Pisagua 115', 'Machalí', 'Chile')\n",
      "[-12.0526551, -77.0997786]\n",
      "('Calle San Ramon 3240', 'Rancagua', 'Chile')\n",
      "[42.4066789, -8.5343826]\n",
      "('Calle A la Goria', 'Rancagua', 'Chile')\n",
      "[38.9841828, -2.3883629]\n",
      "('Calle Rinconada 27', 'San Vicente', 'Chile')\n",
      "[20.9952153, -89.5932784]\n",
      "('Calle Juan jimenez 881', 'San Fernando', 'Chile')\n",
      "[36.8438054, -2.44547452701301]\n",
      "('Calle La quenoa 2363', 'Rancagua', 'Chile')\n",
      "[37.4651333, -3.9253099]\n",
      "('Calle Las azucenas 182', 'San Fernando', 'Chile')\n",
      "[-11.8411777, -77.1230979]\n",
      "('Calle Parcela 24', 'Placilla', 'Chile')\n",
      "[8.9767407, -83.5363267]\n",
      "('Calle Manuel Montt 2930', 'Rancagua', 'Chile')\n",
      "[-34.1786104, -70.73124]\n",
      "('Calle Tunca Abajo, km 19,6', 'San Vicente', 'Chile')\n",
      "None\n",
      "('Calle Illanes 01690', 'Rancagua', 'Chile')\n",
      "[37.1262486, -5.4428433]\n",
      "('Calle Francisco Costabal 4521', 'Codegua', 'Chile')\n",
      "[39.8022471, -4.0524961]\n",
      "('Calle Las Aracucarias', 'Requinoa', 'Chile')\n",
      "[28.5670567, -16.2529721]\n",
      "('Calle Termas de Cauquenes 995', 'Rancagua', 'Chile')\n",
      "None\n",
      "('Calle Manuel Bulnes 1194', 'Rengo', 'Chile')\n",
      "[-24.1700204, -65.2925125]\n",
      "('Calle Yungay 840', 'Linares', 'Chile')\n",
      "[-33.437521849999996, -70.67402849999999]\n",
      "('Calle Guzman 0', 'San Fernando', 'Chile')\n",
      "[18.1497, -65.441416]\n",
      "('Calle Hijuelas 2', 'Paredones', 'Chile')\n",
      "[-32.8048585, -71.15725]\n",
      "('Calle Las Escolapias 2297', 'Rancagua', 'Chile')\n",
      "[42.6797549, -0.5321276]\n",
      "('Calle Carrizalillo 0', 'Paredones', 'Chile')\n",
      "[21.121944, -98.100556]\n",
      "('Calle Aries 1744', 'Rancagua', 'Chile')\n",
      "[39.9655102, -76.71289304275825]\n",
      "('Calle Codao 294', 'Peumo', 'Chile')\n",
      "[-34.381483, -71.24413]\n",
      "('Calle Illanes 1333', 'Rancagua', 'Chile')\n",
      "[-32.8849584, -60.724185]\n",
      "('Calle Yaquil 0', 'Rancagua', 'Chile')\n",
      "[42.3441522, -3.7015014]\n",
      "('Calle Manuel Rodriguez 81', 'Chimbarongo', 'Chile')\n",
      "[18.456661, -66.06699]\n",
      "('Calle Cuesta Lo Gonzalez', 'San Fernando', 'Chile')\n",
      "[37.1344519, -3.668335]\n",
      "('Calle Italia 751', 'San Fernando', 'Chile')\n",
      "[45.4447289, 12.3184453]\n"
     ]
    }
   ],
   "source": [
    "l=[]\n",
    "for nombre, direccion, comuna in data:\n",
    "    lugar= 'Calle '+direccion, comuna, 'Chile'\n",
    "    print(lugar)\n",
    "    ubicacion=geocoder.komoot(lugar).latlng\n",
    "    print(ubicacion)\n",
    "    try:\n",
    "        dato=[nombre, direccion, comuna, ubicacion]\n",
    "        if ubicacion != None:\n",
    "            l.append(dato)\n",
    "    except:\n",
    "        pass"
   ]
  },
  {
   "cell_type": "code",
   "execution_count": 25,
   "metadata": {},
   "outputs": [
    {
     "data": {
      "text/html": [
       "<div style=\"width:100%;\"><div style=\"position:relative;width:100%;height:0;padding-bottom:60%;\"><iframe src=\"data:text/html;charset=utf-8;base64,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\" style=\"position:absolute;width:100%;height:100%;left:0;top:0;border:none !important;\" allowfullscreen webkitallowfullscreen mozallowfullscreen></iframe></div></div>"
      ],
      "text/plain": [
       "<folium.folium.Map at 0x1e3527fb6d8>"
      ]
     },
     "execution_count": 25,
     "metadata": {},
     "output_type": "execute_result"
    }
   ],
   "source": [
    "m=folium.Map(\n",
    "    location=[41.87194, 12.56738],\n",
    "    tiles='OpenStreetMap',\n",
    "    zoom_start=4\n",
    ")\n",
    "for nombre, direccion, comuna, ubicacion in l:\n",
    "    folium.Marker(ubicacion, popup=nombre).add_to(m)\n",
    "    folium.Circle(ubicacion, radius=2000).add_to(m)\n",
    "    \n",
    "m"
   ]
  },
  {
   "cell_type": "code",
   "execution_count": 32,
   "metadata": {},
   "outputs": [
    {
     "data": {
      "text/html": [
       "<div style=\"width:100%;\"><div style=\"position:relative;width:100%;height:0;padding-bottom:60%;\"><iframe src=\"data:text/html;charset=utf-8;base64,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\" style=\"position:absolute;width:100%;height:100%;left:0;top:0;border:none !important;\" allowfullscreen webkitallowfullscreen mozallowfullscreen></iframe></div></div>"
      ],
      "text/plain": [
       "<folium.folium.Map at 0x1e352947be0>"
      ]
     },
     "execution_count": 32,
     "metadata": {},
     "output_type": "execute_result"
    }
   ],
   "source": [
    "m=folium.Map(\n",
    "    location=[-34.589874, -70.939493],\n",
    "    tiles='openstreetmap',\n",
    "    zoom_start=14\n",
    ")\n",
    "\n",
    "folium.Marker(location=[-34.589874, -70.939493], popup='Colmena Abejas').add_to(m)\n",
    "folium.Circle(location=[-34.589874, -70.939493], radius=2000, color='yellow', fill=True, fill_color='yellow', fill_opacity='0.4').add_to(m)\n",
    "\n",
    "m"
   ]
  },
  {
   "cell_type": "code",
   "execution_count": null,
   "metadata": {},
   "outputs": [],
   "source": []
  }
 ],
 "metadata": {
  "kernelspec": {
   "display_name": "Python 3",
   "language": "python",
   "name": "python3"
  },
  "language_info": {
   "codemirror_mode": {
    "name": "ipython",
    "version": 3
   },
   "file_extension": ".py",
   "mimetype": "text/x-python",
   "name": "python",
   "nbconvert_exporter": "python",
   "pygments_lexer": "ipython3",
   "version": "3.6.5"
  }
 },
 "nbformat": 4,
 "nbformat_minor": 2
}
